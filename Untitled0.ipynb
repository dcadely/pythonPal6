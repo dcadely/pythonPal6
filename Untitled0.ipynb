{
  "nbformat": 4,
  "nbformat_minor": 0,
  "metadata": {
    "colab": {
      "provenance": [],
      "toc_visible": true,
      "authorship_tag": "ABX9TyPohaN5mdz5+DDOwfjjjy1W",
      "include_colab_link": true
    },
    "kernelspec": {
      "name": "python3",
      "display_name": "Python 3"
    },
    "language_info": {
      "name": "python"
    }
  },
  "cells": [
    {
      "cell_type": "markdown",
      "metadata": {
        "id": "view-in-github",
        "colab_type": "text"
      },
      "source": [
        "<a href=\"https://colab.research.google.com/github/dcadely/pythonPal6/blob/master/Untitled0.ipynb\" target=\"_parent\"><img src=\"https://colab.research.google.com/assets/colab-badge.svg\" alt=\"Open In Colab\"/></a>"
      ]
    },
    {
      "cell_type": "code",
      "execution_count": 3,
      "metadata": {
        "id": "7RgOBykLPskZ"
      },
      "outputs": [],
      "source": [
        "import requests\n",
        "import re\n",
        "\n",
        "def get_school_data():\n",
        "    schools = []\n",
        "    for page_number in range(1, 6):\n",
        "        url = f\"https://www.myschools.nyc/en/schools/high-school/?page={page_number}\"\n",
        "        response = requests.get(url)\n",
        "        if response.status_code != 200:\n",
        "            raise Exception(\"Error while fetching school data\")\n",
        "\n",
        "        # Extract the school data from the page\n",
        "        school_pattern = r'<h3 class=\"school-name\">\\s*<a.*?>(.*?)</a>\\s*</h3>\\s*'\n",
        "        school_pattern += r'<p class=\"school-contact\">\\s*<strong>Email:</strong> (.*?)\\s*<br>\\s*'\n",
        "        school_pattern += r'<strong>Phone:</strong> (.*?)\\s*<br>\\s*'\n",
        "        school_pattern += r'<strong>Address:</strong> (.*?)\\s*</p>'\n",
        "        for school_data in re.findall(school_pattern, response.text, re.DOTALL):\n",
        "            name, email, phone, address = school_data\n",
        "            schools.append({\n",
        "                \"name\": name,\n",
        "                \"email\": email,\n",
        "                \"phone\": phone,\n",
        "                \"address\": address,\n",
        "            })\n",
        "\n",
        "    return schools\n",
        "\n",
        "def main():\n",
        "    schools = get_school_data()\n",
        "    for school in schools:\n",
        "        print(\"Name:\", school[\"name\"])\n",
        "        print(\"Email:\", school[\"email\"])\n",
        "        print(\"Phone:\", school[\"phone\"])\n",
        "        print(\"Address:\", school[\"address\"])\n",
        "        print()\n",
        "\n",
        "if __name__ == \"__main__\":\n",
        "    main()"
      ]
    }
  ]
}